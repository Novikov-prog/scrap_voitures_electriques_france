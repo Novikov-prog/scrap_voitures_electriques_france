{
 "cells": [
  {
   "cell_type": "code",
   "execution_count": 4,
   "metadata": {},
   "outputs": [],
   "source": [
    "from random import sample \n",
    "import sqlite3 as sql\n",
    "import pandas as pd\n",
    "\n",
    "\n",
    "from bs4 import BeautifulSoup\n",
    "import math\n",
    "import tqdm\n",
    "import json\n",
    "import pandas as pd\n",
    "import datetime\n",
    "import time\n",
    "\n",
    "import requests\n",
    "from bs4 import BeautifulSoup\n",
    "import pandas as pd\n",
    "import time\n",
    "from IPython.core.debugger import Tracer\n",
    "import time\n",
    "from random import sample"
   ]
  },
  {
   "cell_type": "code",
   "execution_count": 5,
   "metadata": {},
   "outputs": [],
   "source": [
    "class UsedCars_Downloader:  \n",
    "     # retourne beautifulsoup sur l'url donnée\n",
    "    def getSoup(self, link):\n",
    "        r = requests.get(link)\n",
    "        r.encoding = 'UTF-8'\n",
    "        return BeautifulSoup(r.text,'lxml')\n",
    "    # recuperation des details téchniques nbr de sièges, couleur, date d'enregistrement etc.\n",
    "    def getAllValues(self, link):\n",
    "        \n",
    "        soup = self.getSoup(link)\n",
    "        qs= soup.findAll('dd')\n",
    "        return [q.text[1:-1] for q in qs]\n",
    "    # recuperation de la consomation et la polution même si on extrait les voitures éléctriques.\n",
    "    def getAllFeatures(self, link):\n",
    "        \n",
    "        soup = self.getSoup(link)\n",
    "        zs = soup.findAll('dt')\n",
    "        return [z.text for z in zs]\n",
    "\n",
    "\n",
    "    # recuperation des mots clés qui doivent attirer le potentiel acheteur\n",
    "    def getTitle(self, link):\n",
    "        \n",
    "        soup = self.getSoup(link)\n",
    "        return soup.find('h2').text\n",
    "\n",
    "\n",
    "    # prix du vehicule\n",
    "    def getPrice(self, link):\n",
    "        \n",
    "        soup = self.getSoup(link)\n",
    "        return soup.find('div', {\"class\":\"cldt-price\"}).find('h2').text[1:-1]\n",
    "\n",
    "\n",
    "    # kilometrage, date de dernier propriétaire, puissance...\n",
    "    def getPrimaryspecs(self, link):\n",
    "        \n",
    "        soup = self.getSoup(link)\n",
    "        a = soup.find('div', {\"class\":\"cldt-stage-basic-data\"}).findAll('div')[0].find('span').text\n",
    "        b = soup.find('div', {\"class\":\"cldt-stage-basic-data\"}).findAll('div')[1].find('span').text\n",
    "        c = soup.find('div', {\"class\":\"cldt-stage-basic-data\"}).find('span', {\"class\":\"sc-font-l cldt-stage-primary-keyfact\"}).text\n",
    "        d = soup.find('div', {\"class\":\"cldt-stage-basic-data\"}).findAll('div')[3].find('span').text\n",
    "\n",
    "\n",
    "        return a,b,c,d \n",
    "\n",
    "    # le reste des specifications    \n",
    "    def getPrimaryspecs2(self, link):\n",
    "        \n",
    "        soup = self.getSoup(link)\n",
    "        extract = soup.find('div', {\"class\":\"cldt-stage-basic-data\"}).findAll('div')[3]\n",
    "        xs = extract.findAll('span')\n",
    "        return [x.text for x in xs]\n",
    "    # selection aléatoire\n",
    "    def RandomSample(self, df, coef):\n",
    "        \n",
    "        x=sample(df, coef)\n",
    "        return x\n",
    "    \n",
    "    def checker2(self, df):  \n",
    "        l=[]\n",
    "        for link in df:\n",
    "            checker=requests.get(link)\n",
    "            if str(checker) == '<Response [410]>':\n",
    "                check = 'False'\n",
    "            if str(checker) == '<Response [200]>':\n",
    "                check = 'True'\n",
    "            d = {\n",
    "                'link':link,\n",
    "                'Response':check,\n",
    "        \n",
    "            \n",
    "                }\n",
    "            l.append(d)\n",
    "        D=pd.DataFrame(l)\n",
    "        exists =  D['Response']=='True'\n",
    "        DF=D[exists]\n",
    "        DF= DF['link'].values.tolist()\n",
    "        return DF\n",
    "            \n",
    "        \n",
    "    def scraper(self, links, nmbroflinks, grouplen):\n",
    "        start= time.time()\n",
    "        tracker=0\n",
    "        # creation de la DB\n",
    "        database = 'electric.cars.db'\n",
    "        connection = sql.connect(database)\n",
    "        l = []\n",
    "        for link in links[0:nmbroflinks]:\n",
    "            Features=self.getAllFeatures(link)\n",
    "            Values=self.getAllValues(link)\n",
    "            Title=self.getTitle(link)\n",
    "            Price=self.getPrice(link) \n",
    "            Primaryspecs=self.getPrimaryspecs(link)\n",
    "            Primaryspecs2=self.getPrimaryspecs2(link) \n",
    "            d = {\n",
    "            'lien':link,\n",
    "            'Titre':Title,\n",
    "            'Prix':Price,\n",
    "            'km':Primaryspecs[0],\n",
    "            'Etat':Primaryspecs[1],\n",
    "            'Date enregistrement':Primaryspecs[2],\n",
    "            'kW':Primaryspecs[3],\n",
    "            'kW':Primaryspecs2[0],\n",
    "            'ch': Primaryspecs2[1],\n",
    "            'vitesses': Primaryspecs2[2],\n",
    "            'type': Primaryspecs2[2],\n",
    "            Features[0]:Values[0],\n",
    "            Features[1]:Values[1],\n",
    "            Features[2]:Values[2],\n",
    "            Features[3]:Values[3],\n",
    "            Features[4]:Values[4],\n",
    "            Features[5]:Values[5]\n",
    "            }\n",
    "            try:\n",
    "                d[Features[6]] = Values[6]\n",
    "            except:\n",
    "                pass\n",
    "            try:\n",
    "                d[Features[7]] = Values[7]\n",
    "            except:\n",
    "                pass\n",
    "            try:\n",
    "                d[Features[8]] = Values[8]\n",
    "            except:\n",
    "                pass\n",
    "            try:\n",
    "                d[Features[9]] = Values[9]\n",
    "            except:\n",
    "                pass\n",
    "            try:\n",
    "                d[Features[10]] = Values[10]\n",
    "            except:\n",
    "                pass\n",
    "            try:\n",
    "                d[Features[11]] = Values[11]\n",
    "            except:\n",
    "                pass\n",
    "            try:\n",
    "                d[Features[12]] = Values[12]\n",
    "            except:\n",
    "                pass\n",
    "            try:\n",
    "                d[Features[13]] = Values[13]\n",
    "            except:\n",
    "                pass\n",
    "            try:\n",
    "                d[Features[14]] = Values[14]\n",
    "            except:\n",
    "                pass\n",
    "            try:\n",
    "                d[Features[15]] = Values[15]\n",
    "            except:\n",
    "                pass\n",
    "            try:\n",
    "                d[Features[16]] = Values[16]\n",
    "            except:\n",
    "                pass\n",
    "            try:\n",
    "                d[Features[17]] = Values[17]\n",
    "            except:\n",
    "                pass\n",
    "            try:\n",
    "                d[Features[18]] = Values[18]\n",
    "            except:\n",
    "                pass\n",
    "            try:\n",
    "                d[Features[19]] = Values[19]\n",
    "            except:\n",
    "                pass\n",
    "            try:\n",
    "                d[Features[20]] = Values[20]\n",
    "            except:\n",
    "                pass\n",
    "            try:\n",
    "                d[Features[21]] = Values[21]\n",
    "            except:\n",
    "                pass\n",
    "            try:\n",
    "                d[Features[22]] = Values[22]\n",
    "            except:\n",
    "                pass\n",
    "            \n",
    "            l.append(d)\n",
    "            tracker = tracker +1\n",
    "\n",
    "            if tracker % grouplen == 0:\n",
    "                \n",
    "                info1 =pd.DataFrame(l)\n",
    "                try:\n",
    "                    info1.to_sql('toupload2', connection, if_exists='append')\n",
    "                except:\n",
    "                    data=pd.read_sql_query('''SELECT * from toupload2''', connection)\n",
    "                    df2=pd.concat([data, info1])\n",
    "                    df2.to_sql('toupload2', connection, if_exists='replace')\n",
    "                l = []\n",
    "            time.sleep(1)\n",
    "\n",
    "\n",
    "\n",
    "        print(tracker)           \n",
    "        end=time.time()            \n",
    "        print(end - start)\n",
    "        print(info1)"
   ]
  },
  {
   "cell_type": "code",
   "execution_count": 13,
   "metadata": {},
   "outputs": [
    {
     "output_type": "execute_result",
     "data": {
      "text/plain": "03',\n 'https://www.autoscout24.com//offers/nissan-leaf-109ch-24kwh-visia-electric-white-57b91aaa-70cc-4df7-98b8-5b15c3d9ae60',\n 'https://www.autoscout24.com//offers/nissan-leaf-visia-electric-red-6e5bd472-a891-4c23-80f4-f0113100fc81',\n 'https://www.autoscout24.com//offers/nissan-leaf-109ch-tekna-electric-white-208d4ae9-b64a-448b-9d99-abdcbfab480c',\n 'https://www.autoscout24.com//offers/nissan-leaf-109-ch-electric-blue-42563186-93fd-477b-8c62-511623e55098',\n 'https://www.autoscout24.com//offers/nissan-leaf-109ch-30kwh-acenta-electric-grey-c475890d-9f7b-4b16-b8ed-1a84c265b39c',\n 'https://www.autoscout24.com//offers/nissan-leaf-electrique-visia-electric-white-3c5bede7-ac2b-448a-b968-a86a28b6adb2',\n 'https://www.autoscout24.com//offers/nissan-leaf-109ch-24kwh-visia-electric-white-8ea90d6f-6eae-463a-b048-0cd572fa97e8',\n 'https://www.autoscout24.com//offers/nissan-leaf-109ch-visia-electric-white-7e33ec86-2593-47d4-a1f6-f25006b64580',\n 'https://www.autoscout24.com//offers/nissan-leaf-electric-zero-emission-navi-electric-white-1bd20bb0-2c77-4f21-92e4-c68bcbfb2ed9',\n 'https://www.autoscout24.com//offers/nissan-leaf-109ch-24kwh-flex-visia-electric-white-af85cdbc-596f-405d-95f1-99c99e1c9a5c',\n 'https://www.autoscout24.com//offers/nissan-leaf-electrique-visia-electric-white-dd28b911-0937-413c-9d7c-f64ba8f232aa',\n 'https://www.autoscout24.com//offers/nissan-leaf-109ch-24kwh-acenta-electric-white-1354dd0b-ee62-455e-88d5-b7b95a1247d6',\n 'https://www.autoscout24.com//offers/nissan-leaf-109ch-24kwh-visia-electric-red-e95f653b-4bf1-4d5d-aae8-7edfea0f0e08',\n 'https://www.autoscout24.com//offers/nissan-leaf-109ch-24kwh-visia-electric-white-eca29135-bfbd-47cc-b8ec-1b73353e67a1',\n 'https://www.autoscout24.com//offers/nissan-leaf-109ch-24kwh-visia-electric-white-98279582-0de0-4dd2-97f0-a08bdb458bb9',\n 'https://www.autoscout24.com//offers/nissan-leaf-109ch-24kwh-visia-electric-white-972df64b-bdde-46f6-aab0-b23ed4b46b4f',\n 'https://www.autoscout24.com//offers/nissan-nv200-e-nv200-optima-5p-electric-white-cbb0be18-49ac-4c7c-a6a4-8bf1ef5fa43e',\n 'https://www.autoscout24.com//offers/nissan-leaf-109ch-24kwh-acenta-electric-white-4636d951-0d05-4a36-b560-81be0a038b3e',\n 'https://www.autoscout24.com//offers/nissan-leaf-109ch-acenta-electric-blue-abcfd0f6-94f0-44d7-a9eb-082c3f1e190b',\n 'https://www.autoscout24.com//offers/nissan-leaf-2-109hp-visia-auto-electric-white-608aabc6-7c8b-4408-8b27-f49c8805ad03',\n 'https://www.autoscout24.com//offers/nissan-leaf-109ch-24kwh-visia-electric-white-57b91aaa-70cc-4df7-98b8-5b15c3d9ae60',\n 'https://www.autoscout24.com//offers/nissan-leaf-visia-electric-red-6e5bd472-a891-4c23-80f4-f0113100fc81',\n 'https://www.autoscout24.com//offers/nissan-leaf-109ch-tekna-electric-white-208d4ae9-b64a-448b-9d99-abdcbfab480c',\n 'https://www.autoscout24.com//offers/nissan-leaf-109-ch-electric-blue-42563186-93fd-477b-8c62-511623e55098',\n 'https://www.autoscout24.com//offers/nissan-leaf-109ch-30kwh-acenta-electric-grey-c475890d-9f7b-4b16-b8ed-1a84c265b39c',\n 'https://www.autoscout24.com//offers/nissan-leaf-electrique-visia-electric-white-3c5bede7-ac2b-448a-b968-a86a28b6adb2',\n 'https://www.autoscout24.com//offers/nissan-leaf-109ch-24kwh-visia-electric-white-8ea90d6f-6eae-463a-b048-0cd572fa97e8',\n 'https://www.autoscout24.com//offers/nissan-leaf-109ch-visia-electric-white-7e33ec86-2593-47d4-a1f6-f25006b64580',\n 'https://www.autoscout24.com//offers/nissan-leaf-electric-zero-emission-navi-electric-white-1bd20bb0-2c77-4f21-92e4-c68bcbfb2ed9',\n 'https://www.autoscout24.com//offers/nissan-leaf-109ch-24kwh-flex-visia-electric-white-af85cdbc-596f-405d-95f1-99c99e1c9a5c',\n 'https://www.autoscout24.com//offers/nissan-leaf-electrique-visia-electric-white-dd28b911-0937-413c-9d7c-f64ba8f232aa',\n 'https://www.autoscout24.com//offers/nissan-leaf-109ch-24kwh-acenta-electric-white-1354dd0b-ee62-455e-88d5-b7b95a1247d6',\n 'https://www.autoscout24.com//offers/nissan-leaf-109ch-24kwh-visia-electric-red-e95f653b-4bf1-4d5d-aae8-7edfea0f0e08',\n 'https://www.autoscout24.com//offers/nissan-leaf-109ch-24kwh-visia-electric-white-eca29135-bfbd-47cc-b8ec-1b73353e67a1',\n 'https://www.autoscout24.com//offers/nissan-leaf-109ch-24kwh-visia-electric-white-98279582-0de0-4dd2-97f0-a08bdb458bb9',\n 'https://www.autoscout24.com//offers/nissan-leaf-109ch-24kwh-visia-electric-white-972df64b-bdde-46f6-aab0-b23ed4b46b4f',\n 'https://www.autoscout24.com//offers/nissan-nv200-e-nv200-optima-5p-electric-white-cbb0be18-49ac-4c7c-a6a4-8bf1ef5fa43e',\n 'https://www.autoscout24.com//offers/nissan-leaf-109ch-24kwh-acenta-electric-white-4636d951-0d05-4a36-b560-81be0a038b3e',\n 'https://www.autoscout24.com//offers/nissan-leaf-109ch-acenta-electric-blue-abcfd0f6-94f0-44d7-a9eb-082c3f1e190b',\n 'https://www.autoscout24.com//offers/nissan-leaf-2-109hp-visia-auto-electric-white-608aabc6-7c8b-4408-8b27-f49c8805ad03',\n 'https://www.autoscout24.com//offers/nissan-leaf-109ch-24kwh-visia-electric-white-57b91aaa-70cc-4df7-98b8-5b15c3d9ae60',\n 'https://www.autoscout24.com//offers/nissan-leaf-visia-electric-red-6e5bd472-a891-4c23-80f4-f0113100fc81',\n 'https://www.autoscout24.com//offers/nissan-leaf-109ch-tekna-electric-white-208d4ae9-b64a-448b-9d99-abdcbfab480c',\n 'https://www.autoscout24.com//offers/nissan-leaf-109-ch-electric-blue-42563186-93fd-477b-8c62-511623e55098',\n 'https://www.autoscout24.com//offers/nissan-leaf-109ch-30kwh-acenta-electric-grey-c475890d-9f7b-4b16-b8ed-1a84c265b39c',\n 'https://www.autoscout24.com//offers/nissan-leaf-electrique-visia-electric-white-3c5bede7-ac2b-448a-b968-a86a28b6adb2',\n 'https://www.autoscout24.com//offers/nissan-leaf-109ch-24kwh-visia-electric-white-8ea90d6f-6eae-463a-b048-0cd572fa97e8',\n 'https://www.autoscout24.com//offers/nissan-leaf-109ch-visia-electric-white-7e33ec86-2593-47d4-a1f6-f25006b64580',\n 'https://www.autoscout24.com//offers/nissan-leaf-electric-zero-emission-navi-electric-white-1bd20bb0-2c77-4f21-92e4-c68bcbfb2ed9',\n 'https://www.autoscout24.com//offers/nissan-leaf-109ch-24kwh-flex-visia-electric-white-af85cdbc-596f-405d-95f1-99c99e1c9a5c',\n 'https://www.autoscout24.com//offers/nissan-leaf-electrique-visia-electric-white-dd28b911-0937-413c-9d7c-f64ba8f232aa',\n 'https://www.autoscout24.com//offers/nissan-leaf-109ch-24kwh-acenta-electric-white-1354dd0b-ee62-455e-88d5-b7b95a1247d6',\n 'https://www.autoscout24.com//offers/nissan-leaf-109ch-24kwh-visia-electric-red-e95f653b-4bf1-4d5d-aae8-7edfea0f0e08',\n 'https://www.autoscout24.com//offers/nissan-leaf-109ch-24kwh-visia-electric-white-eca29135-bfbd-47cc-b8ec-1b73353e67a1',\n 'https://www.autoscout24.com//offers/nissan-leaf-109ch-24kwh-visia-electric-white-98279582-0de0-4dd2-97f0-a08bdb458bb9',\n 'https://www.autoscout24.com//offers/nissan-leaf-109ch-24kwh-visia-electric-white-972df64b-bdde-46f6-aab0-b23ed4b46b4f',\n 'https://www.autoscout24.com//offers/nissan-nv200-e-nv200-optima-5p-electric-white-cbb0be18-49ac-4c7c-a6a4-8bf1ef5fa43e',\n 'https://www.autoscout24.com//offers/nissan-leaf-109ch-24kwh-acenta-electric-white-4636d951-0d05-4a36-b560-81be0a038b3e',\n 'https://www.autoscout24.com//offers/nissan-leaf-109ch-acenta-electric-blue-abcfd0f6-94f0-44d7-a9eb-082c3f1e190b',\n 'https://www.autoscout24.com//offers/nissan-leaf-2-109hp-visia-auto-electric-white-608aabc6-7c8b-4408-8b27-f49c8805ad03',\n 'https://www.autoscout24.com//offers/nissan-leaf-109ch-24kwh-visia-electric-white-57b91aaa-70cc-4df7-98b8-5b15c3d9ae60',\n 'https://www.autoscout24.com//offers/nissan-leaf-visia-electric-red-6e5bd472-a891-4c23-80f4-f0113100fc81',\n 'https://www.autoscout24.com//offers/nissan-leaf-109ch-tekna-electric-white-208d4ae9-b64a-448b-9d99-abdcbfab480c',\n 'https://www.autoscout24.com//offers/nissan-leaf-109-ch-electric-blue-42563186-93fd-477b-8c62-511623e55098',\n 'https://www.autoscout24.com//offers/peugeot-ion-electrique-active-electric-grey-f22440ed-02ca-449f-89a3-74c5d2ccaf5d',\n 'https://www.autoscout24.com//offers/peugeot-ion-electrique-active-electric-blue-c17a878f-8a59-41f5-b1cf-1dd154a6d673',\n 'https://www.autoscout24.com//offers/peugeot-ion-electrique-active-electric-06361f5b-eef4-45a8-a5bd-598dc0808aa4',\n 'https://www.autoscout24.com//offers/peugeot-ion-electrique-active-electric-80db4e83-617e-4dcc-803c-009056c38977',\n 'https://www.autoscout24.com//offers/peugeot-ion-electrique-active-electric-white-8e30e1e7-2996-4a99-81ac-9d90a5244425',\n 'https://www.autoscout24.com//offers/peugeot-ion-electrique-active-electric-grey-9d9f4722-2e38-4c14-afb9-5a9d8309c494',\n 'https://www.autoscout24.com//offers/peugeot-ion-electrique-active-electric-grey-f22440ed-02ca-449f-89a3-74c5d2ccaf5d',\n 'https://www.autoscout24.com//offers/peugeot-ion-electrique-active-electric-blue-c17a878f-8a59-41f5-b1cf-1dd154a6d673',\n 'https://www.autoscout24.com//offers/peugeot-ion-electrique-active-electric-06361f5b-eef4-45a8-a5bd-598dc0808aa4',\n 'https://www.autoscout24.com//offers/peugeot-ion-electrique-active-electric-80db4e83-617e-4dcc-803c-009056c38977',\n 'https://www.autoscout24.com//offers/peugeot-ion-electrique-active-electric-white-8e30e1e7-2996-4a99-81ac-9d90a5244425',\n 'https://www.autoscout24.com//offers/peugeot-ion-electrique-active-electric-grey-9d9f4722-2e38-4c14-afb9-5a9d8309c494',\n 'https://www.autoscout24.com//offers/renault-zoe-life-charge-normale-type-2-electric-grey-25b64b2f-9ab4-4462-9ab2-ad956ae75f5a',\n 'https://www.autoscout24.com//offers/renault-zoe-life-electric-red-81290835-ce9d-4fd0-82e8-f2e56e7f4db6',\n 'https://www.autoscout24.com//offers/renault-zoe-intens-type-2-electric-white-89bdd82f-a75d-4f80-8840-b55a1774fda8',\n 'https://www.autoscout24.com//offers/renault-zoe-life-charge-rapide-type-2-electric-grey-90f50dc2-a78a-4ec7-a5ba-ae69e554c69c',\n 'https://www.autoscout24.com//offers/renault-zoe-zen-charge-normale-r90-electric-white-f9f8dc1a-492f-4b39-a9ff-ea3a485096fa',\n 'https://www.autoscout24.com//offers/renault-kangoo-express-ze-z-e-extra-r-link-electric-white-96f027b7-0d05-47cb-9461-ced512c8c506',\n 'https://www.autoscout24.com//offers/renault-zoe-life-charge-rapide-q90-electric-white-dc3e3fa6-bd4d-439f-95d2-06e5a180bd0e',\n 'https://www.autoscout24.com//offers/renault-zoe-zen-charge-normale-r90-electric-grey-1494cc78-f4e9-4bb5-bf23-5a4df0bfa8e8',\n 'https://www.autoscout24.com//offers/renault-zoe-zen-charge-normale-r90-electric-grey-3f306e4a-3e74-48f4-a223-cae4ca72a029',\n 'https://www.autoscout24.com//offers/renault-twingo-iii-0-9-tce-90-energy-zen-electric-grey-26137b1b-62fa-4e95-9b5d-70169fe93597',\n 'https://www.autoscout24.com//offers/renault-zoe-zen-charge-normale-r90-electric-white-8630711c-dde5-4953-96fd-e1e00e277189',\n 'https://www.autoscout24.com//offers/renault-zoe-life-charge-normale-electric-white-f3f0365a-a9c5-4f7a-bba0-51f3403977f8',\n 'https://www.autoscout24.com//offers/renault-zoe-life-gamme-2017-electric-white-12842413-1998-4b78-8270-b9a9bdbb2dc5',\n 'https://www.autoscout24.com//offers/renault-zoe-city-charge-normale-r90-electric-white-1f8a82b1-7d6a-49fb-822b-60afbe5fa189',\n 'https://www.autoscout24.com//offers/renault-zoe-intens-charge-normale-electric-blue-4085868d-2bd0-483d-9d21-0628433e759f',\n 'https://www.autoscout24.com//offers/renault-zoe-life-charge-normale-electric-white-db864627-8801-4e7e-a42a-4414efc77563',\n 'https://www.autoscout24.com//offers/renault-zoe-life-electric-white-173ef2bd-2cf6-47e8-8bbc-257ae3810912',\n 'https://www.autoscout24.com//offers/renault-zoe-life-charge-normale-electric-1495c0c4-d5e6-4937-bd58-a2f3c1762842',\n 'https://www.autoscout24.com//offers/renault-zoe-intens-electric-6665743d-40ce-42a2-bc8f-a70a5385327d',\n 'https://www.autoscout24.com//offers/renault-zoe-life-charge-normale-type-2-electric-blue-cd97318f-048a-4846-a524-d19e1205f24a',\n 'https://www.autoscout24.com//offers/renault-zoe-life-charge-normale-type-2-electric-grey-25b64b2f-9ab4-4462-9ab2-ad956ae75f5a',\n 'https://www.autoscout24.com//offers/renault-zoe-life-electric-red-81290835-ce9d-4fd0-82e8-f2e56e7f4db6',\n 'https://www.autoscout24.com//offers/renault-zoe-intens-type-2-electric-white-89bdd82f-a75d-4f80-8840-b55a1774fda8',\n 'https://www.autoscout24.com//offers/renault-zoe-life-charge-rapide-type-2-electric-grey-90f50dc2-a78a-4ec7-a5ba-ae69e554c69c',\n 'https://www.autoscout24.com//offers/renault-zoe-zen-charge-normale-r90-electric-white-f9f8dc1a-492f-4b39-a9ff-ea3a485096fa',\n 'https://www.autoscout24.com//offers/renault-kangoo-express-ze-z-e-extra-r-link-electric-white-96f027b7-0d05-47cb-9461-ced512c8c506',\n 'https://www.autoscout24.com//offers/renault-zoe-life-charge-rapide-q90-electric-white-dc3e3fa6-bd4d-439f-95d2-06e5a180bd0e',\n 'https://www.autoscout24.com//offers/renault-zoe-zen-charge-normale-r90-electric-grey-1494cc78-f4e9-4bb5-bf23-5a4df0bfa8e8',\n 'https://www.autoscout24.com//offers/renault-zoe-zen-charge-normale-r90-electric-grey-3f306e4a-3e74-48f4-a223-cae4ca72a029',\n 'https://www.autoscout24.com//offers/renault-twingo-iii-0-9-tce-90-energy-zen-electric-grey-26137b1b-62fa-4e95-9b5d-70169fe93597',\n 'https://www.autoscout24.com//offers/renault-zoe-zen-charge-normale-r90-electric-white-8630711c-dde5-4953-96fd-e1e00e277189',\n 'https://www.autoscout24.com//offers/renault-zoe-life-charge-normale-electric-white-f3f0365a-a9c5-4f7a-bba0-51f3403977f8',\n 'https://www.autoscout24.com//offers/renault-zoe-life-gamme-2017-electric-white-12842413-1998-4b78-8270-b9a9bdbb2dc5',\n 'https://www.autoscout24.com//offers/renault-zoe-city-charge-normale-r90-electric-white-1f8a82b1-7d6a-49fb-822b-60afbe5fa189',\n 'https://www.autoscout24.com//offers/renault-zoe-intens-charge-normale-electric-blue-4085868d-2bd0-483d-9d21-0628433e759f',\n 'https://www.autoscout24.com//offers/renault-zoe-life-charge-normale-electric-white-db864627-8801-4e7e-a42a-4414efc77563',\n 'https://www.autoscout24.com//offers/renault-zoe-life-electric-white-173ef2bd-2cf6-47e8-8bbc-257ae3810912',\n 'https://www.autoscout24.com//offers/renault-zoe-life-charge-normale-electric-1495c0c4-d5e6-4937-bd58-a2f3c1762842',\n 'https://www.autoscout24.com//offers/renault-zoe-intens-electric-6665743d-40ce-42a2-bc8f-a70a5385327d',\n 'https://www.autoscout24.com//offers/renault-zoe-life-charge-normale-type-2-electric-blue-cd97318f-048a-4846-a524-d19e1205f24a',\n 'https://www.autoscout24.com//offers/renault-zoe-life-charge-normale-type-2-electric-grey-25b64b2f-9ab4-4462-9ab2-ad956ae75f5a',\n 'https://www.autoscout24.com//offers/renault-zoe-life-electric-red-81290835-ce9d-4fd0-82e8-f2e56e7f4db6',\n 'https://www.autoscout24.com//offers/renault-zoe-intens-type-2-electric-white-89bdd82f-a75d-4f80-8840-b55a1774fda8',\n 'https://www.autoscout24.com//offers/renault-zoe-life-charge-rapide-type-2-electric-grey-90f50dc2-a78a-4ec7-a5ba-ae69e554c69c',\n 'https://www.autoscout24.com//offers/renault-zoe-zen-charge-normale-r90-electric-white-f9f8dc1a-492f-4b39-a9ff-ea3a485096fa',\n 'https://www.autoscout24.com//offers/renault-kangoo-express-ze-z-e-extra-r-link-electric-white-96f027b7-0d05-47cb-9461-ced512c8c506',\n 'https://www.autoscout24.com//offers/renault-zoe-life-charge-rapide-q90-electric-white-dc3e3fa6-bd4d-439f-95d2-06e5a180bd0e',\n 'https://www.autoscout24.com//offers/renault-zoe-zen-charge-normale-r90-electric-grey-1494cc78-f4e9-4bb5-bf23-5a4df0bfa8e8',\n 'https://www.autoscout24.com//offers/renault-zoe-zen-charge-normale-r90-electric-grey-3f306e4a-3e74-48f4-a223-cae4ca72a029',\n 'https://www.autoscout24.com//offers/renault-twingo-iii-0-9-tce-90-energy-zen-electric-grey-26137b1b-62fa-4e95-9b5d-70169fe93597',\n 'https://www.autoscout24.com//offers/renault-zoe-zen-charge-normale-r90-electric-white-8630711c-dde5-4953-96fd-e1e00e277189',\n 'https://www.autoscout24.com//offers/renault-zoe-life-charge-normale-electric-white-f3f0365a-a9c5-4f7a-bba0-51f3403977f8',\n 'https://www.autoscout24.com//offers/renault-zoe-life-gamme-2017-electric-white-12842413-1998-4b78-8270-b9a9bdbb2dc5',\n 'https://www.autoscout24.com//offers/renault-zoe-city-charge-normale-r90-electric-white-1f8a82b1-7d6a-49fb-822b-60afbe5fa189',\n 'https://www.autoscout24.com//offers/renault-zoe-intens-charge-normale-electric-blue-4085868d-2bd0-483d-9d21-0628433e759f',\n 'https://www.autoscout24.com//offers/renault-zoe-life-charge-normale-electric-white-db864627-8801-4e7e-a42a-4414efc77563',\n 'https://www.autoscout24.com//offers/renault-zoe-life-electric-white-173ef2bd-2cf6-47e8-8bbc-257ae3810912',\n 'https://www.autoscout24.com//offers/renault-zoe-life-charge-normale-electric-1495c0c4-d5e6-4937-bd58-a2f3c1762842',\n 'https://www.autoscout24.com//offers/renault-zoe-intens-electric-6665743d-40ce-42a2-bc8f-a70a5385327d',\n 'https://www.autoscout24.com//offers/renault-zoe-life-charge-normale-type-2-electric-blue-cd97318f-048a-4846-a524-d19e1205f24a',\n 'https://www.autoscout24.com//offers/renault-zoe-life-charge-normale-type-2-electric-grey-25b64b2f-9ab4-4462-9ab2-ad956ae75f5a',\n 'https://www.autoscout24.com//offers/renault-zoe-life-electric-red-81290835-ce9d-4fd0-82e8-f2e56e7f4db6',\n 'https://www.autoscout24.com//offers/renault-zoe-intens-type-2-electric-white-89bdd82f-a75d-4f80-8840-b55a1774fda8',\n 'https://www.autoscout24.com//offers/renault-zoe-life-charge-rapide-type-2-electric-grey-90f50dc2-a78a-4ec7-a5ba-ae69e554c69c',\n 'https://www.autoscout24.com//offers/renault-zoe-zen-charge-normale-r90-electric-white-f9f8dc1a-492f-4b39-a9ff-ea3a485096fa',\n 'https://www.autoscout24.com//offers/renault-kangoo-express-ze-z-e-extra-r-link-electric-white-96f027b7-0d05-47cb-9461-ced512c8c506',\n 'https://www.autoscout24.com//offers/renault-zoe-life-charge-rapide-q90-electric-white-dc3e3fa6-bd4d-439f-95d2-06e5a180bd0e',\n 'https://www.autoscout24.com//offers/renault-zoe-zen-charge-normale-r90-electric-grey-1494cc78-f4e9-4bb5-bf23-5a4df0bfa8e8',\n 'https://www.autoscout24.com//offers/renault-zoe-zen-charge-normale-r90-electric-grey-3f306e4a-3e74-48f4-a223-cae4ca72a029',\n 'https://www.autoscout24.com//offers/renault-twingo-iii-0-9-tce-90-energy-zen-electric-grey-26137b1b-62fa-4e95-9b5d-70169fe93597',\n 'https://www.autoscout24.com//offers/renault-zoe-zen-charge-normale-r90-electric-white-8630711c-dde5-4953-96fd-e1e00e277189',\n 'https://www.autoscout24.com//offers/renault-zoe-life-charge-normale-electric-white-f3f0365a-a9c5-4f7a-bba0-51f3403977f8',\n 'https://www.autoscout24.com//offers/renault-zoe-life-gamme-2017-electric-white-12842413-1998-4b78-8270-b9a9bdbb2dc5',\n 'https://www.autoscout24.com//offers/renault-zoe-city-charge-normale-r90-electric-white-1f8a82b1-7d6a-49fb-822b-60afbe5fa189',\n 'https://www.autoscout24.com//offers/renault-zoe-intens-charge-normale-electric-blue-4085868d-2bd0-483d-9d21-0628433e759f',\n 'https://www.autoscout24.com//offers/renault-zoe-life-charge-normale-electric-white-db864627-8801-4e7e-a42a-4414efc77563',\n 'https://www.autoscout24.com//offers/renault-zoe-life-electric-white-173ef2bd-2cf6-47e8-8bbc-257ae3810912',\n 'https://www.autoscout24.com//offers/renault-zoe-life-charge-normale-electric-1495c0c4-d5e6-4937-bd58-a2f3c1762842',\n 'https://www.autoscout24.com//offers/renault-zoe-intens-electric-6665743d-40ce-42a2-bc8f-a70a5385327d',\n 'https://www.autoscout24.com//offers/renault-zoe-life-charge-normale-type-2-electric-blue-cd97318f-048a-4846-a524-d19e1205f24a',\n 'https://www.autoscout24.com//offers/renault-zoe-life-charge-normale-type-2-electric-grey-25b64b2f-9ab4-4462-9ab2-ad956ae75f5a',\n 'https://www.autoscout24.com//offers/renault-zoe-life-electric-red-81290835-ce9d-4fd0-82e8-f2e56e7f4db6',\n 'https://www.autoscout24.com//offers/renault-zoe-intens-type-2-electric-white-89bdd82f-a75d-4f80-8840-b55a1774fda8',\n 'https://www.autoscout24.com//offers/renault-zoe-life-charge-rapide-type-2-electric-grey-90f50dc2-a78a-4ec7-a5ba-ae69e554c69c',\n 'https://www.autoscout24.com//offers/renault-zoe-zen-charge-normale-r90-electric-white-f9f8dc1a-492f-4b39-a9ff-ea3a485096fa',\n 'https://www.autoscout24.com//offers/renault-kangoo-express-ze-z-e-extra-r-link-electric-white-96f027b7-0d05-47cb-9461-ced512c8c506',\n 'https://www.autoscout24.com//offers/renault-zoe-life-charge-rapide-q90-electric-white-dc3e3fa6-bd4d-439f-95d2-06e5a180bd0e',\n 'https://www.autoscout24.com//offers/renault-zoe-zen-charge-normale-r90-electric-grey-1494cc78-f4e9-4bb5-bf23-5a4df0bfa8e8',\n ...]"
     },
     "metadata": {},
     "execution_count": 13
    }
   ],
   "source": [
    "# importation des données --------------------------------------------------------------\n",
    "database = 'Frenchdatabase.db'\n",
    "connection = sql.connect(database)\n",
    "\n",
    "df = pd.read_sql_query('''SELECT * from Frenchautolinks''', connection)\n",
    "df= df['0'].values.tolist()\n",
    "\n",
    "df"
   ]
  },
  {
   "cell_type": "code",
   "execution_count": 6,
   "metadata": {},
   "outputs": [],
   "source": [
    "usedcars=UsedCars_Downloader()"
   ]
  },
  {
   "cell_type": "code",
   "execution_count": 7,
   "metadata": {},
   "outputs": [],
   "source": [
    "# ici on va extraire 200 annonces aléatoires pour ne pas surcharger la DB\n",
    "coef=200"
   ]
  },
  {
   "cell_type": "code",
   "execution_count": 12,
   "metadata": {},
   "outputs": [
    {
     "output_type": "error",
     "ename": "NameError",
     "evalue": "name 'df' is not defined",
     "traceback": [
      "\u001b[1;31m---------------------------------------------------------------------------\u001b[0m",
      "\u001b[1;31mNameError\u001b[0m                                 Traceback (most recent call last)",
      "\u001b[1;32m<ipython-input-12-a5c727094dba>\u001b[0m in \u001b[0;36m<module>\u001b[1;34m\u001b[0m\n\u001b[1;32m----> 1\u001b[1;33m \u001b[0mDF\u001b[0m\u001b[1;33m=\u001b[0m\u001b[0musedcars\u001b[0m\u001b[1;33m.\u001b[0m\u001b[0mchecker2\u001b[0m\u001b[1;33m(\u001b[0m\u001b[0musedcars\u001b[0m\u001b[1;33m.\u001b[0m\u001b[0mRandomSample\u001b[0m\u001b[1;33m(\u001b[0m\u001b[0mdf\u001b[0m\u001b[1;33m,\u001b[0m \u001b[0mcoef\u001b[0m\u001b[1;33m)\u001b[0m\u001b[1;33m)\u001b[0m\u001b[1;33m\u001b[0m\u001b[1;33m\u001b[0m\u001b[0m\n\u001b[0m\u001b[0;32m      2\u001b[0m \u001b[0mlen\u001b[0m\u001b[1;33m(\u001b[0m\u001b[0mDF\u001b[0m\u001b[1;33m)\u001b[0m\u001b[1;33m\u001b[0m\u001b[1;33m\u001b[0m\u001b[0m\n\u001b[0;32m      3\u001b[0m \u001b[0mDF\u001b[0m\u001b[1;33m\u001b[0m\u001b[1;33m\u001b[0m\u001b[0m\n",
      "\u001b[1;31mNameError\u001b[0m: name 'df' is not defined"
     ]
    }
   ],
   "source": [
    "DF=usedcars.checker2(usedcars.RandomSample(df, coef))\n",
    "len(DF)\n",
    "DF"
   ]
  },
  {
   "cell_type": "code",
   "execution_count": 50,
   "metadata": {},
   "outputs": [],
   "source": [
    "nmbroflinks=len(DF)"
   ]
  },
  {
   "cell_type": "code",
   "execution_count": 51,
   "metadata": {},
   "outputs": [
    {
     "data": {
      "text/plain": [
       "20"
      ]
     },
     "execution_count": 51,
     "metadata": {},
     "output_type": "execute_result"
    }
   ],
   "source": [
    "len(DF)"
   ]
  },
  {
   "cell_type": "code",
   "execution_count": 52,
   "metadata": {},
   "outputs": [],
   "source": [
    "grouplen=len(DF)"
   ]
  },
  {
   "cell_type": "code",
   "execution_count": 54,
   "metadata": {},
   "outputs": [
    {
     "name": "stderr",
     "output_type": "stream",
     "text": [
      "/home/novikovmaxim/anaconda3/lib/python3.7/site-packages/ipykernel_launcher.py:194: FutureWarning: Sorting because non-concatenation axis is not aligned. A future version\n",
      "of pandas will change to not sort by default.\n",
      "\n",
      "To accept the future behavior, pass 'sort=False'.\n",
      "\n",
      "To retain the current behavior and silence the warning, pass 'sort=True'.\n",
      "\n"
     ]
    },
    {
     "ename": "OperationalError",
     "evalue": "duplicate column name: type",
     "output_type": "error",
     "traceback": [
      "\u001b[0;31m---------------------------------------------------------------------------\u001b[0m",
      "\u001b[0;31mOperationalError\u001b[0m                          Traceback (most recent call last)",
      "\u001b[0;32m<ipython-input-45-deb37ce7e9f6>\u001b[0m in \u001b[0;36mscraper\u001b[0;34m(self, links, nmbroflinks, grouplen)\u001b[0m\n\u001b[1;32m    190\u001b[0m                 \u001b[0;32mtry\u001b[0m\u001b[0;34m:\u001b[0m\u001b[0;34m\u001b[0m\u001b[0;34m\u001b[0m\u001b[0m\n\u001b[0;32m--> 191\u001b[0;31m                     \u001b[0minfo1\u001b[0m\u001b[0;34m.\u001b[0m\u001b[0mto_sql\u001b[0m\u001b[0;34m(\u001b[0m\u001b[0;34m'toupload2'\u001b[0m\u001b[0;34m,\u001b[0m \u001b[0mconnection\u001b[0m\u001b[0;34m,\u001b[0m \u001b[0mif_exists\u001b[0m\u001b[0;34m=\u001b[0m\u001b[0;34m'append'\u001b[0m\u001b[0;34m)\u001b[0m\u001b[0;34m\u001b[0m\u001b[0;34m\u001b[0m\u001b[0m\n\u001b[0m\u001b[1;32m    192\u001b[0m                 \u001b[0;32mexcept\u001b[0m\u001b[0;34m:\u001b[0m\u001b[0;34m\u001b[0m\u001b[0;34m\u001b[0m\u001b[0m\n",
      "\u001b[0;32m~/anaconda3/lib/python3.7/site-packages/pandas/core/generic.py\u001b[0m in \u001b[0;36mto_sql\u001b[0;34m(self, name, con, schema, if_exists, index, index_label, chunksize, dtype, method)\u001b[0m\n\u001b[1;32m   2530\u001b[0m                    \u001b[0mindex\u001b[0m\u001b[0;34m=\u001b[0m\u001b[0mindex\u001b[0m\u001b[0;34m,\u001b[0m \u001b[0mindex_label\u001b[0m\u001b[0;34m=\u001b[0m\u001b[0mindex_label\u001b[0m\u001b[0;34m,\u001b[0m \u001b[0mchunksize\u001b[0m\u001b[0;34m=\u001b[0m\u001b[0mchunksize\u001b[0m\u001b[0;34m,\u001b[0m\u001b[0;34m\u001b[0m\u001b[0;34m\u001b[0m\u001b[0m\n\u001b[0;32m-> 2531\u001b[0;31m                    dtype=dtype, method=method)\n\u001b[0m\u001b[1;32m   2532\u001b[0m \u001b[0;34m\u001b[0m\u001b[0m\n",
      "\u001b[0;32m~/anaconda3/lib/python3.7/site-packages/pandas/io/sql.py\u001b[0m in \u001b[0;36mto_sql\u001b[0;34m(frame, name, con, schema, if_exists, index, index_label, chunksize, dtype, method)\u001b[0m\n\u001b[1;32m    459\u001b[0m                       \u001b[0mindex_label\u001b[0m\u001b[0;34m=\u001b[0m\u001b[0mindex_label\u001b[0m\u001b[0;34m,\u001b[0m \u001b[0mschema\u001b[0m\u001b[0;34m=\u001b[0m\u001b[0mschema\u001b[0m\u001b[0;34m,\u001b[0m\u001b[0;34m\u001b[0m\u001b[0;34m\u001b[0m\u001b[0m\n\u001b[0;32m--> 460\u001b[0;31m                       chunksize=chunksize, dtype=dtype, method=method)\n\u001b[0m\u001b[1;32m    461\u001b[0m \u001b[0;34m\u001b[0m\u001b[0m\n",
      "\u001b[0;32m~/anaconda3/lib/python3.7/site-packages/pandas/io/sql.py\u001b[0m in \u001b[0;36mto_sql\u001b[0;34m(self, frame, name, if_exists, index, index_label, schema, chunksize, dtype, method)\u001b[0m\n\u001b[1;32m   1546\u001b[0m         \u001b[0mtable\u001b[0m\u001b[0;34m.\u001b[0m\u001b[0mcreate\u001b[0m\u001b[0;34m(\u001b[0m\u001b[0;34m)\u001b[0m\u001b[0;34m\u001b[0m\u001b[0;34m\u001b[0m\u001b[0m\n\u001b[0;32m-> 1547\u001b[0;31m         \u001b[0mtable\u001b[0m\u001b[0;34m.\u001b[0m\u001b[0minsert\u001b[0m\u001b[0;34m(\u001b[0m\u001b[0mchunksize\u001b[0m\u001b[0;34m,\u001b[0m \u001b[0mmethod\u001b[0m\u001b[0;34m)\u001b[0m\u001b[0;34m\u001b[0m\u001b[0;34m\u001b[0m\u001b[0m\n\u001b[0m\u001b[1;32m   1548\u001b[0m \u001b[0;34m\u001b[0m\u001b[0m\n",
      "\u001b[0;32m~/anaconda3/lib/python3.7/site-packages/pandas/io/sql.py\u001b[0m in \u001b[0;36minsert\u001b[0;34m(self, chunksize, method)\u001b[0m\n\u001b[1;32m    685\u001b[0m                 \u001b[0mchunk_iter\u001b[0m \u001b[0;34m=\u001b[0m \u001b[0mzip\u001b[0m\u001b[0;34m(\u001b[0m\u001b[0;34m*\u001b[0m\u001b[0;34m[\u001b[0m\u001b[0marr\u001b[0m\u001b[0;34m[\u001b[0m\u001b[0mstart_i\u001b[0m\u001b[0;34m:\u001b[0m\u001b[0mend_i\u001b[0m\u001b[0;34m]\u001b[0m \u001b[0;32mfor\u001b[0m \u001b[0marr\u001b[0m \u001b[0;32min\u001b[0m \u001b[0mdata_list\u001b[0m\u001b[0;34m]\u001b[0m\u001b[0;34m)\u001b[0m\u001b[0;34m\u001b[0m\u001b[0;34m\u001b[0m\u001b[0m\n\u001b[0;32m--> 686\u001b[0;31m                 \u001b[0mexec_insert\u001b[0m\u001b[0;34m(\u001b[0m\u001b[0mconn\u001b[0m\u001b[0;34m,\u001b[0m \u001b[0mkeys\u001b[0m\u001b[0;34m,\u001b[0m \u001b[0mchunk_iter\u001b[0m\u001b[0;34m)\u001b[0m\u001b[0;34m\u001b[0m\u001b[0;34m\u001b[0m\u001b[0m\n\u001b[0m\u001b[1;32m    687\u001b[0m \u001b[0;34m\u001b[0m\u001b[0m\n",
      "\u001b[0;32m~/anaconda3/lib/python3.7/site-packages/pandas/io/sql.py\u001b[0m in \u001b[0;36m_execute_insert\u001b[0;34m(self, conn, keys, data_iter)\u001b[0m\n\u001b[1;32m   1318\u001b[0m         \u001b[0mdata_list\u001b[0m \u001b[0;34m=\u001b[0m \u001b[0mlist\u001b[0m\u001b[0;34m(\u001b[0m\u001b[0mdata_iter\u001b[0m\u001b[0;34m)\u001b[0m\u001b[0;34m\u001b[0m\u001b[0;34m\u001b[0m\u001b[0m\n\u001b[0;32m-> 1319\u001b[0;31m         \u001b[0mconn\u001b[0m\u001b[0;34m.\u001b[0m\u001b[0mexecutemany\u001b[0m\u001b[0;34m(\u001b[0m\u001b[0mself\u001b[0m\u001b[0;34m.\u001b[0m\u001b[0minsert_statement\u001b[0m\u001b[0;34m(\u001b[0m\u001b[0;34m)\u001b[0m\u001b[0;34m,\u001b[0m \u001b[0mdata_list\u001b[0m\u001b[0;34m)\u001b[0m\u001b[0;34m\u001b[0m\u001b[0;34m\u001b[0m\u001b[0m\n\u001b[0m\u001b[1;32m   1320\u001b[0m \u001b[0;34m\u001b[0m\u001b[0m\n",
      "\u001b[0;31mOperationalError\u001b[0m: table toupload2 has no column named index",
      "\nDuring handling of the above exception, another exception occurred:\n",
      "\u001b[0;31mOperationalError\u001b[0m                          Traceback (most recent call last)",
      "\u001b[0;32m<ipython-input-54-4322d0f950b6>\u001b[0m in \u001b[0;36m<module>\u001b[0;34m\u001b[0m\n\u001b[0;32m----> 1\u001b[0;31m \u001b[0musedcars\u001b[0m\u001b[0;34m.\u001b[0m\u001b[0mscraper\u001b[0m\u001b[0;34m(\u001b[0m\u001b[0mDF\u001b[0m\u001b[0;34m,\u001b[0m \u001b[0mnmbroflinks\u001b[0m\u001b[0;34m,\u001b[0m \u001b[0mgrouplen\u001b[0m\u001b[0;34m)\u001b[0m\u001b[0;34m\u001b[0m\u001b[0;34m\u001b[0m\u001b[0m\n\u001b[0m",
      "\u001b[0;32m<ipython-input-45-deb37ce7e9f6>\u001b[0m in \u001b[0;36mscraper\u001b[0;34m(self, links, nmbroflinks, grouplen)\u001b[0m\n\u001b[1;32m    193\u001b[0m                     \u001b[0mdata\u001b[0m\u001b[0;34m=\u001b[0m\u001b[0mpd\u001b[0m\u001b[0;34m.\u001b[0m\u001b[0mread_sql_query\u001b[0m\u001b[0;34m(\u001b[0m\u001b[0;34m'''SELECT * from toupload2'''\u001b[0m\u001b[0;34m,\u001b[0m \u001b[0mconnection\u001b[0m\u001b[0;34m)\u001b[0m\u001b[0;34m\u001b[0m\u001b[0;34m\u001b[0m\u001b[0m\n\u001b[1;32m    194\u001b[0m                     \u001b[0mdf2\u001b[0m\u001b[0;34m=\u001b[0m\u001b[0mpd\u001b[0m\u001b[0;34m.\u001b[0m\u001b[0mconcat\u001b[0m\u001b[0;34m(\u001b[0m\u001b[0;34m[\u001b[0m\u001b[0mdata\u001b[0m\u001b[0;34m,\u001b[0m \u001b[0minfo1\u001b[0m\u001b[0;34m]\u001b[0m\u001b[0;34m)\u001b[0m\u001b[0;34m\u001b[0m\u001b[0;34m\u001b[0m\u001b[0m\n\u001b[0;32m--> 195\u001b[0;31m                     \u001b[0mdf2\u001b[0m\u001b[0;34m.\u001b[0m\u001b[0mto_sql\u001b[0m\u001b[0;34m(\u001b[0m\u001b[0;34m'toupload2'\u001b[0m\u001b[0;34m,\u001b[0m \u001b[0mconnection\u001b[0m\u001b[0;34m,\u001b[0m \u001b[0mif_exists\u001b[0m\u001b[0;34m=\u001b[0m\u001b[0;34m'replace'\u001b[0m\u001b[0;34m)\u001b[0m\u001b[0;34m\u001b[0m\u001b[0;34m\u001b[0m\u001b[0m\n\u001b[0m\u001b[1;32m    196\u001b[0m                 \u001b[0ml\u001b[0m \u001b[0;34m=\u001b[0m \u001b[0;34m[\u001b[0m\u001b[0;34m]\u001b[0m\u001b[0;34m\u001b[0m\u001b[0;34m\u001b[0m\u001b[0m\n\u001b[1;32m    197\u001b[0m             \u001b[0mtime\u001b[0m\u001b[0;34m.\u001b[0m\u001b[0msleep\u001b[0m\u001b[0;34m(\u001b[0m\u001b[0;36m1\u001b[0m\u001b[0;34m)\u001b[0m\u001b[0;34m\u001b[0m\u001b[0;34m\u001b[0m\u001b[0m\n",
      "\u001b[0;32m~/anaconda3/lib/python3.7/site-packages/pandas/core/generic.py\u001b[0m in \u001b[0;36mto_sql\u001b[0;34m(self, name, con, schema, if_exists, index, index_label, chunksize, dtype, method)\u001b[0m\n\u001b[1;32m   2529\u001b[0m         sql.to_sql(self, name, con, schema=schema, if_exists=if_exists,\n\u001b[1;32m   2530\u001b[0m                    \u001b[0mindex\u001b[0m\u001b[0;34m=\u001b[0m\u001b[0mindex\u001b[0m\u001b[0;34m,\u001b[0m \u001b[0mindex_label\u001b[0m\u001b[0;34m=\u001b[0m\u001b[0mindex_label\u001b[0m\u001b[0;34m,\u001b[0m \u001b[0mchunksize\u001b[0m\u001b[0;34m=\u001b[0m\u001b[0mchunksize\u001b[0m\u001b[0;34m,\u001b[0m\u001b[0;34m\u001b[0m\u001b[0;34m\u001b[0m\u001b[0m\n\u001b[0;32m-> 2531\u001b[0;31m                    dtype=dtype, method=method)\n\u001b[0m\u001b[1;32m   2532\u001b[0m \u001b[0;34m\u001b[0m\u001b[0m\n\u001b[1;32m   2533\u001b[0m     def to_pickle(self, path, compression='infer',\n",
      "\u001b[0;32m~/anaconda3/lib/python3.7/site-packages/pandas/io/sql.py\u001b[0m in \u001b[0;36mto_sql\u001b[0;34m(frame, name, con, schema, if_exists, index, index_label, chunksize, dtype, method)\u001b[0m\n\u001b[1;32m    458\u001b[0m     pandas_sql.to_sql(frame, name, if_exists=if_exists, index=index,\n\u001b[1;32m    459\u001b[0m                       \u001b[0mindex_label\u001b[0m\u001b[0;34m=\u001b[0m\u001b[0mindex_label\u001b[0m\u001b[0;34m,\u001b[0m \u001b[0mschema\u001b[0m\u001b[0;34m=\u001b[0m\u001b[0mschema\u001b[0m\u001b[0;34m,\u001b[0m\u001b[0;34m\u001b[0m\u001b[0;34m\u001b[0m\u001b[0m\n\u001b[0;32m--> 460\u001b[0;31m                       chunksize=chunksize, dtype=dtype, method=method)\n\u001b[0m\u001b[1;32m    461\u001b[0m \u001b[0;34m\u001b[0m\u001b[0m\n\u001b[1;32m    462\u001b[0m \u001b[0;34m\u001b[0m\u001b[0m\n",
      "\u001b[0;32m~/anaconda3/lib/python3.7/site-packages/pandas/io/sql.py\u001b[0m in \u001b[0;36mto_sql\u001b[0;34m(self, frame, name, if_exists, index, index_label, schema, chunksize, dtype, method)\u001b[0m\n\u001b[1;32m   1544\u001b[0m                             \u001b[0mif_exists\u001b[0m\u001b[0;34m=\u001b[0m\u001b[0mif_exists\u001b[0m\u001b[0;34m,\u001b[0m \u001b[0mindex_label\u001b[0m\u001b[0;34m=\u001b[0m\u001b[0mindex_label\u001b[0m\u001b[0;34m,\u001b[0m\u001b[0;34m\u001b[0m\u001b[0;34m\u001b[0m\u001b[0m\n\u001b[1;32m   1545\u001b[0m                             dtype=dtype)\n\u001b[0;32m-> 1546\u001b[0;31m         \u001b[0mtable\u001b[0m\u001b[0;34m.\u001b[0m\u001b[0mcreate\u001b[0m\u001b[0;34m(\u001b[0m\u001b[0;34m)\u001b[0m\u001b[0;34m\u001b[0m\u001b[0;34m\u001b[0m\u001b[0m\n\u001b[0m\u001b[1;32m   1547\u001b[0m         \u001b[0mtable\u001b[0m\u001b[0;34m.\u001b[0m\u001b[0minsert\u001b[0m\u001b[0;34m(\u001b[0m\u001b[0mchunksize\u001b[0m\u001b[0;34m,\u001b[0m \u001b[0mmethod\u001b[0m\u001b[0;34m)\u001b[0m\u001b[0;34m\u001b[0m\u001b[0;34m\u001b[0m\u001b[0m\n\u001b[1;32m   1548\u001b[0m \u001b[0;34m\u001b[0m\u001b[0m\n",
      "\u001b[0;32m~/anaconda3/lib/python3.7/site-packages/pandas/io/sql.py\u001b[0m in \u001b[0;36mcreate\u001b[0;34m(self)\u001b[0m\n\u001b[1;32m    576\u001b[0m             \u001b[0;32melif\u001b[0m \u001b[0mself\u001b[0m\u001b[0;34m.\u001b[0m\u001b[0mif_exists\u001b[0m \u001b[0;34m==\u001b[0m \u001b[0;34m'replace'\u001b[0m\u001b[0;34m:\u001b[0m\u001b[0;34m\u001b[0m\u001b[0;34m\u001b[0m\u001b[0m\n\u001b[1;32m    577\u001b[0m                 \u001b[0mself\u001b[0m\u001b[0;34m.\u001b[0m\u001b[0mpd_sql\u001b[0m\u001b[0;34m.\u001b[0m\u001b[0mdrop_table\u001b[0m\u001b[0;34m(\u001b[0m\u001b[0mself\u001b[0m\u001b[0;34m.\u001b[0m\u001b[0mname\u001b[0m\u001b[0;34m,\u001b[0m \u001b[0mself\u001b[0m\u001b[0;34m.\u001b[0m\u001b[0mschema\u001b[0m\u001b[0;34m)\u001b[0m\u001b[0;34m\u001b[0m\u001b[0;34m\u001b[0m\u001b[0m\n\u001b[0;32m--> 578\u001b[0;31m                 \u001b[0mself\u001b[0m\u001b[0;34m.\u001b[0m\u001b[0m_execute_create\u001b[0m\u001b[0;34m(\u001b[0m\u001b[0;34m)\u001b[0m\u001b[0;34m\u001b[0m\u001b[0;34m\u001b[0m\u001b[0m\n\u001b[0m\u001b[1;32m    579\u001b[0m             \u001b[0;32melif\u001b[0m \u001b[0mself\u001b[0m\u001b[0;34m.\u001b[0m\u001b[0mif_exists\u001b[0m \u001b[0;34m==\u001b[0m \u001b[0;34m'append'\u001b[0m\u001b[0;34m:\u001b[0m\u001b[0;34m\u001b[0m\u001b[0;34m\u001b[0m\u001b[0m\n\u001b[1;32m    580\u001b[0m                 \u001b[0;32mpass\u001b[0m\u001b[0;34m\u001b[0m\u001b[0;34m\u001b[0m\u001b[0m\n",
      "\u001b[0;32m~/anaconda3/lib/python3.7/site-packages/pandas/io/sql.py\u001b[0m in \u001b[0;36m_execute_create\u001b[0;34m(self)\u001b[0m\n\u001b[1;32m   1297\u001b[0m         \u001b[0;32mwith\u001b[0m \u001b[0mself\u001b[0m\u001b[0;34m.\u001b[0m\u001b[0mpd_sql\u001b[0m\u001b[0;34m.\u001b[0m\u001b[0mrun_transaction\u001b[0m\u001b[0;34m(\u001b[0m\u001b[0;34m)\u001b[0m \u001b[0;32mas\u001b[0m \u001b[0mconn\u001b[0m\u001b[0;34m:\u001b[0m\u001b[0;34m\u001b[0m\u001b[0;34m\u001b[0m\u001b[0m\n\u001b[1;32m   1298\u001b[0m             \u001b[0;32mfor\u001b[0m \u001b[0mstmt\u001b[0m \u001b[0;32min\u001b[0m \u001b[0mself\u001b[0m\u001b[0;34m.\u001b[0m\u001b[0mtable\u001b[0m\u001b[0;34m:\u001b[0m\u001b[0;34m\u001b[0m\u001b[0;34m\u001b[0m\u001b[0m\n\u001b[0;32m-> 1299\u001b[0;31m                 \u001b[0mconn\u001b[0m\u001b[0;34m.\u001b[0m\u001b[0mexecute\u001b[0m\u001b[0;34m(\u001b[0m\u001b[0mstmt\u001b[0m\u001b[0;34m)\u001b[0m\u001b[0;34m\u001b[0m\u001b[0;34m\u001b[0m\u001b[0m\n\u001b[0m\u001b[1;32m   1300\u001b[0m \u001b[0;34m\u001b[0m\u001b[0m\n\u001b[1;32m   1301\u001b[0m     \u001b[0;32mdef\u001b[0m \u001b[0minsert_statement\u001b[0m\u001b[0;34m(\u001b[0m\u001b[0mself\u001b[0m\u001b[0;34m)\u001b[0m\u001b[0;34m:\u001b[0m\u001b[0;34m\u001b[0m\u001b[0;34m\u001b[0m\u001b[0m\n",
      "\u001b[0;31mOperationalError\u001b[0m: duplicate column name: type"
     ]
    }
   ],
   "source": [
    "usedcars.scraper(DF, nmbroflinks, grouplen)"
   ]
  }
 ],
 "metadata": {
  "kernelspec": {
   "name": "Python 3.8.3 32-bit",
   "display_name": "Python 3.8.3 32-bit",
   "metadata": {
    "interpreter": {
     "hash": "37b21795b0fb272fe82d1961b2bc0ed3597118617b62ff923336327b290c5c08"
    }
   }
  },
  "language_info": {
   "codemirror_mode": {
    "name": "ipython",
    "version": 3
   },
   "file_extension": ".py",
   "mimetype": "text/x-python",
   "name": "python",
   "nbconvert_exporter": "python",
   "pygments_lexer": "ipython3",
   "version": "3.8.3-final"
  }
 },
 "nbformat": 4,
 "nbformat_minor": 2
}